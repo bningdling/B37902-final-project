{
 "cells": [
  {
   "cell_type": "markdown",
   "metadata": {},
   "source": [
    "# Random Coefficients Logit Model"
   ]
  },
  {
   "cell_type": "code",
   "execution_count": 1,
   "metadata": {},
   "outputs": [],
   "source": [
    "import pyblp\n",
    "import numpy as np\n",
    "import pandas as pd\n",
    "\n",
    "pyblp.options.digits = 2\n",
    "pyblp.options.verbose = False"
   ]
  },
  {
   "cell_type": "code",
   "execution_count": 2,
   "metadata": {},
   "outputs": [
    {
     "data": {
      "text/html": [
       "<div>\n",
       "<style scoped>\n",
       "    .dataframe tbody tr th:only-of-type {\n",
       "        vertical-align: middle;\n",
       "    }\n",
       "\n",
       "    .dataframe tbody tr th {\n",
       "        vertical-align: top;\n",
       "    }\n",
       "\n",
       "    .dataframe thead th {\n",
       "        text-align: right;\n",
       "    }\n",
       "</style>\n",
       "<table border=\"1\" class=\"dataframe\">\n",
       "  <thead>\n",
       "    <tr style=\"text-align: right;\">\n",
       "      <th></th>\n",
       "      <th>market_ids</th>\n",
       "      <th>city_ids</th>\n",
       "      <th>quarter</th>\n",
       "      <th>product_ids</th>\n",
       "      <th>firm_ids</th>\n",
       "      <th>brand_ids</th>\n",
       "      <th>shares</th>\n",
       "      <th>prices</th>\n",
       "      <th>sugar</th>\n",
       "      <th>mushy</th>\n",
       "      <th>...</th>\n",
       "      <th>demand_instruments10</th>\n",
       "      <th>demand_instruments11</th>\n",
       "      <th>demand_instruments12</th>\n",
       "      <th>demand_instruments13</th>\n",
       "      <th>demand_instruments14</th>\n",
       "      <th>demand_instruments15</th>\n",
       "      <th>demand_instruments16</th>\n",
       "      <th>demand_instruments17</th>\n",
       "      <th>demand_instruments18</th>\n",
       "      <th>demand_instruments19</th>\n",
       "    </tr>\n",
       "  </thead>\n",
       "  <tbody>\n",
       "    <tr>\n",
       "      <th>0</th>\n",
       "      <td>C01Q1</td>\n",
       "      <td>1</td>\n",
       "      <td>1</td>\n",
       "      <td>F1B04</td>\n",
       "      <td>1</td>\n",
       "      <td>4</td>\n",
       "      <td>0.012417</td>\n",
       "      <td>0.072088</td>\n",
       "      <td>2</td>\n",
       "      <td>1</td>\n",
       "      <td>...</td>\n",
       "      <td>2.116358</td>\n",
       "      <td>-0.154708</td>\n",
       "      <td>-0.005796</td>\n",
       "      <td>0.014538</td>\n",
       "      <td>0.126244</td>\n",
       "      <td>0.067345</td>\n",
       "      <td>0.068423</td>\n",
       "      <td>0.034800</td>\n",
       "      <td>0.126346</td>\n",
       "      <td>0.035484</td>\n",
       "    </tr>\n",
       "    <tr>\n",
       "      <th>1</th>\n",
       "      <td>C01Q1</td>\n",
       "      <td>1</td>\n",
       "      <td>1</td>\n",
       "      <td>F1B06</td>\n",
       "      <td>1</td>\n",
       "      <td>6</td>\n",
       "      <td>0.007809</td>\n",
       "      <td>0.114178</td>\n",
       "      <td>18</td>\n",
       "      <td>1</td>\n",
       "      <td>...</td>\n",
       "      <td>-7.374091</td>\n",
       "      <td>-0.576412</td>\n",
       "      <td>0.012991</td>\n",
       "      <td>0.076143</td>\n",
       "      <td>0.029736</td>\n",
       "      <td>0.087867</td>\n",
       "      <td>0.110501</td>\n",
       "      <td>0.087784</td>\n",
       "      <td>0.049872</td>\n",
       "      <td>0.072579</td>\n",
       "    </tr>\n",
       "    <tr>\n",
       "      <th>2</th>\n",
       "      <td>C01Q1</td>\n",
       "      <td>1</td>\n",
       "      <td>1</td>\n",
       "      <td>F1B07</td>\n",
       "      <td>1</td>\n",
       "      <td>7</td>\n",
       "      <td>0.012995</td>\n",
       "      <td>0.132391</td>\n",
       "      <td>4</td>\n",
       "      <td>1</td>\n",
       "      <td>...</td>\n",
       "      <td>2.187872</td>\n",
       "      <td>-0.207346</td>\n",
       "      <td>0.003509</td>\n",
       "      <td>0.091781</td>\n",
       "      <td>0.163773</td>\n",
       "      <td>0.111881</td>\n",
       "      <td>0.108226</td>\n",
       "      <td>0.086439</td>\n",
       "      <td>0.122347</td>\n",
       "      <td>0.101842</td>\n",
       "    </tr>\n",
       "    <tr>\n",
       "      <th>3</th>\n",
       "      <td>C01Q1</td>\n",
       "      <td>1</td>\n",
       "      <td>1</td>\n",
       "      <td>F1B09</td>\n",
       "      <td>1</td>\n",
       "      <td>9</td>\n",
       "      <td>0.005770</td>\n",
       "      <td>0.130344</td>\n",
       "      <td>3</td>\n",
       "      <td>0</td>\n",
       "      <td>...</td>\n",
       "      <td>2.704576</td>\n",
       "      <td>0.040748</td>\n",
       "      <td>-0.003724</td>\n",
       "      <td>0.094732</td>\n",
       "      <td>0.135274</td>\n",
       "      <td>0.088090</td>\n",
       "      <td>0.101767</td>\n",
       "      <td>0.101777</td>\n",
       "      <td>0.110741</td>\n",
       "      <td>0.104332</td>\n",
       "    </tr>\n",
       "    <tr>\n",
       "      <th>4</th>\n",
       "      <td>C01Q1</td>\n",
       "      <td>1</td>\n",
       "      <td>1</td>\n",
       "      <td>F1B11</td>\n",
       "      <td>1</td>\n",
       "      <td>11</td>\n",
       "      <td>0.017934</td>\n",
       "      <td>0.154823</td>\n",
       "      <td>12</td>\n",
       "      <td>0</td>\n",
       "      <td>...</td>\n",
       "      <td>1.261242</td>\n",
       "      <td>0.034836</td>\n",
       "      <td>-0.000568</td>\n",
       "      <td>0.102451</td>\n",
       "      <td>0.130640</td>\n",
       "      <td>0.084818</td>\n",
       "      <td>0.101075</td>\n",
       "      <td>0.125169</td>\n",
       "      <td>0.133464</td>\n",
       "      <td>0.121111</td>\n",
       "    </tr>\n",
       "  </tbody>\n",
       "</table>\n",
       "<p>5 rows × 30 columns</p>\n",
       "</div>"
      ],
      "text/plain": [
       "  market_ids  city_ids  quarter product_ids  firm_ids  brand_ids    shares  \\\n",
       "0      C01Q1         1        1       F1B04         1          4  0.012417   \n",
       "1      C01Q1         1        1       F1B06         1          6  0.007809   \n",
       "2      C01Q1         1        1       F1B07         1          7  0.012995   \n",
       "3      C01Q1         1        1       F1B09         1          9  0.005770   \n",
       "4      C01Q1         1        1       F1B11         1         11  0.017934   \n",
       "\n",
       "     prices  sugar  mushy  ...  demand_instruments10  demand_instruments11  \\\n",
       "0  0.072088      2      1  ...              2.116358             -0.154708   \n",
       "1  0.114178     18      1  ...             -7.374091             -0.576412   \n",
       "2  0.132391      4      1  ...              2.187872             -0.207346   \n",
       "3  0.130344      3      0  ...              2.704576              0.040748   \n",
       "4  0.154823     12      0  ...              1.261242              0.034836   \n",
       "\n",
       "   demand_instruments12  demand_instruments13  demand_instruments14  \\\n",
       "0             -0.005796              0.014538              0.126244   \n",
       "1              0.012991              0.076143              0.029736   \n",
       "2              0.003509              0.091781              0.163773   \n",
       "3             -0.003724              0.094732              0.135274   \n",
       "4             -0.000568              0.102451              0.130640   \n",
       "\n",
       "   demand_instruments15  demand_instruments16  demand_instruments17  \\\n",
       "0              0.067345              0.068423              0.034800   \n",
       "1              0.087867              0.110501              0.087784   \n",
       "2              0.111881              0.108226              0.086439   \n",
       "3              0.088090              0.101767              0.101777   \n",
       "4              0.084818              0.101075              0.125169   \n",
       "\n",
       "   demand_instruments18  demand_instruments19  \n",
       "0              0.126346              0.035484  \n",
       "1              0.049872              0.072579  \n",
       "2              0.122347              0.101842  \n",
       "3              0.110741              0.104332  \n",
       "4              0.133464              0.121111  \n",
       "\n",
       "[5 rows x 30 columns]"
      ]
     },
     "execution_count": 2,
     "metadata": {},
     "output_type": "execute_result"
    }
   ],
   "source": [
    "product_data = pd.read_csv(pyblp.data.NEVO_PRODUCTS_LOCATION)\n",
    "product_data.head()"
   ]
  },
  {
   "cell_type": "markdown",
   "metadata": {},
   "source": [
    "## Without Demographics"
   ]
  },
  {
   "cell_type": "code",
   "execution_count": 3,
   "metadata": {},
   "outputs": [
    {
     "data": {
      "text/plain": [
       "(prices + Absorb[C(product_ids)], 1 + prices + sugar + mushy)"
      ]
     },
     "execution_count": 3,
     "metadata": {},
     "output_type": "execute_result"
    }
   ],
   "source": [
    "X1_formulation = pyblp.Formulation('0 + prices', absorb='C(product_ids)')\n",
    "X2_formulation = pyblp.Formulation('1 + prices + sugar + mushy')\n",
    "product_formulations = (X1_formulation, X2_formulation)\n",
    "product_formulations"
   ]
  },
  {
   "cell_type": "markdown",
   "metadata": {},
   "source": [
    "### Three integration methods"
   ]
  },
  {
   "cell_type": "markdown",
   "metadata": {},
   "source": [
    "#### Monte Carlo integration"
   ]
  },
  {
   "cell_type": "code",
   "execution_count": 2,
   "metadata": {},
   "outputs": [
    {
     "data": {
      "text/plain": [
       "Configured to construct nodes and weights with Monte Carlo simulation with options {seed: 1128}."
      ]
     },
     "execution_count": 2,
     "metadata": {},
     "output_type": "execute_result"
    }
   ],
   "source": [
    "mc_integration = pyblp.Integration('monte_carlo', size=1000, specification_options={'seed': 1128})\n",
    "mc_integration"
   ]
  },
  {
   "cell_type": "markdown",
   "metadata": {},
   "source": [
    "#### Halton integration"
   ]
  },
  {
   "cell_type": "code",
   "execution_count": 8,
   "metadata": {},
   "outputs": [
    {
     "data": {
      "text/plain": [
       "Configured to construct nodes and weights with Halton sequences with options {discard: 1000, scramble: True, seed: 1128}."
      ]
     },
     "execution_count": 8,
     "metadata": {},
     "output_type": "execute_result"
    }
   ],
   "source": [
    "halton_integration = pyblp.Integration('halton', size=1000, specification_options={'seed': 1128})\n",
    "halton_integration"
   ]
  },
  {
   "cell_type": "markdown",
   "metadata": {},
   "source": [
    "#### production rule"
   ]
  },
  {
   "cell_type": "code",
   "execution_count": 16,
   "metadata": {},
   "outputs": [
    {
     "data": {
      "text/plain": [
       "Configured to construct nodes and weights according to the level-10 Gauss-Hermite product rule with options {seed: 1128}."
      ]
     },
     "execution_count": 16,
     "metadata": {},
     "output_type": "execute_result"
    }
   ],
   "source": [
    "pr_integration = pyblp.Integration('product', size=10, specification_options={'seed': 1128})\n",
    "pr_integration"
   ]
  },
  {
   "cell_type": "code",
   "execution_count": 22,
   "metadata": {},
   "outputs": [],
   "source": [
    "mc_problem = pyblp.Problem(product_formulations, product_data, integration=mc_integration)\n",
    "pr_problem = pyblp.Problem(product_formulations, product_data, integration=pr_integration)\n",
    "halton_problem = pyblp.Problem(product_formulations, product_data, integration=halton_integration)"
   ]
  },
  {
   "cell_type": "code",
   "execution_count": 9,
   "metadata": {},
   "outputs": [
    {
     "data": {
      "text/plain": [
       "Dimensions:\n",
       "=============================================\n",
       " T    N     F     I     K1    K2    MD    ED \n",
       "---  ----  ---  -----  ----  ----  ----  ----\n",
       "94   2256   5   94000   1     4     20    1  \n",
       "=============================================\n",
       "\n",
       "Formulations:\n",
       "===========================================================\n",
       "       Column Indices:           0       1       2      3  \n",
       "-----------------------------  ------  ------  -----  -----\n",
       " X1: Linear Characteristics    prices                      \n",
       "X2: Nonlinear Characteristics    1     prices  sugar  mushy\n",
       "==========================================================="
      ]
     },
     "execution_count": 9,
     "metadata": {},
     "output_type": "execute_result"
    }
   ],
   "source": [
    "mc_problem"
   ]
  },
  {
   "cell_type": "code",
   "execution_count": 8,
   "metadata": {},
   "outputs": [
    {
     "data": {
      "text/plain": [
       "Dimensions:\n",
       "=============================================\n",
       " T    N     F     I     K1    K2    MD    ED \n",
       "---  ----  ---  -----  ----  ----  ----  ----\n",
       "94   2256   5   94000   1     4     20    1  \n",
       "=============================================\n",
       "\n",
       "Formulations:\n",
       "===========================================================\n",
       "       Column Indices:           0       1       2      3  \n",
       "-----------------------------  ------  ------  -----  -----\n",
       " X1: Linear Characteristics    prices                      \n",
       "X2: Nonlinear Characteristics    1     prices  sugar  mushy\n",
       "==========================================================="
      ]
     },
     "execution_count": 8,
     "metadata": {},
     "output_type": "execute_result"
    }
   ],
   "source": [
    "halton_problem"
   ]
  },
  {
   "cell_type": "code",
   "execution_count": 19,
   "metadata": {},
   "outputs": [
    {
     "data": {
      "text/plain": [
       "Dimensions:\n",
       "==============================================\n",
       " T    N     F     I      K1    K2    MD    ED \n",
       "---  ----  ---  ------  ----  ----  ----  ----\n",
       "94   2256   5   940000   1     4     20    1  \n",
       "==============================================\n",
       "\n",
       "Formulations:\n",
       "===========================================================\n",
       "       Column Indices:           0       1       2      3  \n",
       "-----------------------------  ------  ------  -----  -----\n",
       " X1: Linear Characteristics    prices                      \n",
       "X2: Nonlinear Characteristics    1     prices  sugar  mushy\n",
       "==========================================================="
      ]
     },
     "execution_count": 19,
     "metadata": {},
     "output_type": "execute_result"
    }
   ],
   "source": [
    "pr_problem"
   ]
  },
  {
   "cell_type": "code",
   "execution_count": 14,
   "metadata": {},
   "outputs": [
    {
     "data": {
      "text/plain": [
       "Configured to optimize using the L-BFGS-B algorithm implemented in SciPy with analytic gradients and options {gtol: +1.0E-06}."
      ]
     },
     "execution_count": 14,
     "metadata": {},
     "output_type": "execute_result"
    }
   ],
   "source": [
    "lbfgsb = pyblp.Optimization('l-bfgs-b', {'gtol': 1e-6})\n",
    "lbfgsb"
   ]
  },
  {
   "cell_type": "markdown",
   "metadata": {},
   "source": [
    "Estimating theses set ups:\n",
    "\n",
    "1. An unrestricted covariance matrix for random tastes using Monte Carlo integration.\n",
    "2. An unrestricted covariance matrix for random tastes using Halton integration.\n",
    "3. An unrestricted covariance matrix for random tastes using the product rule."
   ]
  },
  {
   "cell_type": "code",
   "execution_count": 16,
   "metadata": {},
   "outputs": [
    {
     "data": {
      "text/plain": [
       "Problem Results Summary:\n",
       "==============================================================================================================\n",
       "GMM   Objective    Projected    Reduced Hessian  Reduced Hessian  Clipped  Weighting Matrix  Covariance Matrix\n",
       "Step    Value    Gradient Norm  Min Eigenvalue   Max Eigenvalue   Shares   Condition Number  Condition Number \n",
       "----  ---------  -------------  ---------------  ---------------  -------  ----------------  -----------------\n",
       " 2    +1.6E+02     +5.9E-03        +0.0E+00         +5.4E+03         0         +5.2E+07          +3.8E+06     \n",
       "==============================================================================================================\n",
       "\n",
       "Cumulative Statistics:\n",
       "===========================================================================\n",
       "Computation  Optimizer  Optimization   Objective   Fixed Point  Contraction\n",
       "   Time      Converged   Iterations   Evaluations  Iterations   Evaluations\n",
       "-----------  ---------  ------------  -----------  -----------  -----------\n",
       " 00:01:35       Yes         144           161         94765       297215   \n",
       "===========================================================================\n",
       "\n",
       "Nonlinear Coefficient Estimates (Robust SEs in Parentheses):\n",
       "=========================================================================================================================\n",
       "Sigma:      1         prices      sugar       mushy     |  Sigma Squared:      1         prices      sugar       mushy   \n",
       "------  ----------  ----------  ----------  ----------  |  --------------  ----------  ----------  ----------  ----------\n",
       "  1      +0.0E+00                                       |        1          +0.0E+00    +0.0E+00    +0.0E+00    +0.0E+00 \n",
       "        (+2.4E+00)                                      |                  (+0.0E+00)  (+2.3E+01)  (+3.0E-01)  (+4.6E-01)\n",
       "                                                        |                                                                \n",
       "prices   +9.4E+00    +0.0E+00                           |      prices       +0.0E+00    +8.9E+01    -1.2E+00    -1.8E+00 \n",
       "        (+5.3E+00)  (+5.7E+01)                          |                  (+2.3E+01)  (+1.0E+02)  (+8.9E-01)  (+1.2E+01)\n",
       "                                                        |                                                                \n",
       "sugar    -1.2E-01    -3.9E-03    +1.0E-03               |      sugar        +0.0E+00    -1.2E+00    +1.6E-02    +2.3E-02 \n",
       "        (+1.4E-01)  (+9.1E-01)  (+4.3E-01)              |                  (+3.0E-01)  (+8.9E-01)  (+3.4E-02)  (+2.1E-01)\n",
       "                                                        |                                                                \n",
       "mushy    -1.9E-01    +9.9E-02    -1.1E-01    +0.0E+00   |      mushy        +0.0E+00    -1.8E+00    +2.3E-02    +5.8E-02 \n",
       "        (+1.6E+00)  (+1.1E+01)  (+9.2E+00)  (+1.2E+01)  |                  (+4.6E-01)  (+1.2E+01)  (+2.1E-01)  (+1.7E+00)\n",
       "=========================================================================================================================\n",
       "\n",
       "Beta Estimates (Robust SEs in Parentheses):\n",
       "==========\n",
       "  prices  \n",
       "----------\n",
       " -3.1E+01 \n",
       "(+3.9E+00)\n",
       "=========="
      ]
     },
     "execution_count": 16,
     "metadata": {},
     "output_type": "execute_result"
    }
   ],
   "source": [
    "mc_results = mc_problem.solve(sigma=np.ones((4, 4)), optimization=lbfgsb)\n",
    "mc_results"
   ]
  },
  {
   "cell_type": "code",
   "execution_count": 20,
   "metadata": {},
   "outputs": [
    {
     "data": {
      "text/plain": [
       "Problem Results Summary:\n",
       "==============================================================================================================\n",
       "GMM   Objective    Projected    Reduced Hessian  Reduced Hessian  Clipped  Weighting Matrix  Covariance Matrix\n",
       "Step    Value    Gradient Norm  Min Eigenvalue   Max Eigenvalue   Shares   Condition Number  Condition Number \n",
       "----  ---------  -------------  ---------------  ---------------  -------  ----------------  -----------------\n",
       " 2    +1.6E+02     +1.5E-02        -2.0E-05         +5.1E+03         0         +5.3E+07          +1.9E+38     \n",
       "==============================================================================================================\n",
       "\n",
       "Cumulative Statistics:\n",
       "===========================================================================\n",
       "Computation  Optimizer  Optimization   Objective   Fixed Point  Contraction\n",
       "   Time      Converged   Iterations   Evaluations  Iterations   Evaluations\n",
       "-----------  ---------  ------------  -----------  -----------  -----------\n",
       " 00:07:41       Yes         100           110         67319       210652   \n",
       "===========================================================================\n",
       "\n",
       "Nonlinear Coefficient Estimates (Robust SEs in Parentheses):\n",
       "=========================================================================================================================\n",
       "Sigma:      1         prices      sugar       mushy     |  Sigma Squared:      1         prices      sugar       mushy   \n",
       "------  ----------  ----------  ----------  ----------  |  --------------  ----------  ----------  ----------  ----------\n",
       "  1      +0.0E+00                                       |        1          +0.0E+00    +0.0E+00    +0.0E+00    +0.0E+00 \n",
       "        (+3.8E+00)                                      |                  (+0.0E+00)  (+2.9E+01)  (+3.8E-01)  (+6.7E-01)\n",
       "                                                        |                                                                \n",
       "prices   +7.7E+00    +5.4E+00                           |      prices       +0.0E+00    +8.8E+01    -1.2E+00    -2.0E+00 \n",
       "        (+2.2E+04)  (+3.2E+04)                          |                  (+2.9E+01)  (+1.5E+02)  (+8.9E-01)  (+1.2E+01)\n",
       "                                                        |                                                                \n",
       "sugar    -1.0E-01    -7.1E-02    +0.0E+00               |      sugar        +0.0E+00    -1.2E+00    +1.6E-02    +2.7E-02 \n",
       "        (+2.9E+02)  (+4.2E+02)  (+5.3E+03)              |                  (+3.8E-01)  (+8.9E-01)  (+4.6E-02)  (+2.8E-01)\n",
       "                                                        |                                                                \n",
       "mushy    -1.8E-01    -1.3E-01    +6.1E-04    +1.1E-18   |      mushy        +0.0E+00    -2.0E+00    +2.7E-02    +4.7E-02 \n",
       "        (+6.4E+04)  (+9.2E+04)  (+9.9E+04)  (+1.2E-07)  |                  (+6.7E-01)  (+1.2E+01)  (+2.8E-01)  (+3.6E+00)\n",
       "=========================================================================================================================\n",
       "\n",
       "Beta Estimates (Robust SEs in Parentheses):\n",
       "==========\n",
       "  prices  \n",
       "----------\n",
       " -3.1E+01 \n",
       "(+5.1E+00)\n",
       "=========="
      ]
     },
     "execution_count": 20,
     "metadata": {},
     "output_type": "execute_result"
    }
   ],
   "source": [
    "pr_results = pr_problem.solve(sigma=np.ones((4, 4)), optimization=lbfgsb)\n",
    "pr_results"
   ]
  },
  {
   "cell_type": "code",
   "execution_count": 10,
   "metadata": {},
   "outputs": [
    {
     "data": {
      "text/plain": [
       "Problem Results Summary:\n",
       "==============================================================================================================\n",
       "GMM   Objective    Projected    Reduced Hessian  Reduced Hessian  Clipped  Weighting Matrix  Covariance Matrix\n",
       "Step    Value    Gradient Norm  Min Eigenvalue   Max Eigenvalue   Shares   Condition Number  Condition Number \n",
       "----  ---------  -------------  ---------------  ---------------  -------  ----------------  -----------------\n",
       " 2    +1.6E+02     +1.7E-02        -9.1E-13         +5.1E+03         0         +5.3E+07          +1.3E+08     \n",
       "==============================================================================================================\n",
       "\n",
       "Cumulative Statistics:\n",
       "===========================================================================\n",
       "Computation  Optimizer  Optimization   Objective   Fixed Point  Contraction\n",
       "   Time      Converged   Iterations   Evaluations  Iterations   Evaluations\n",
       "-----------  ---------  ------------  -----------  -----------  -----------\n",
       " 00:02:08       Yes         196           221        133546       418579   \n",
       "===========================================================================\n",
       "\n",
       "Nonlinear Coefficient Estimates (Robust SEs in Parentheses):\n",
       "=========================================================================================================================\n",
       "Sigma:      1         prices      sugar       mushy     |  Sigma Squared:      1         prices      sugar       mushy   \n",
       "------  ----------  ----------  ----------  ----------  |  --------------  ----------  ----------  ----------  ----------\n",
       "  1      +0.0E+00                                       |        1          +0.0E+00    +0.0E+00    +0.0E+00    +0.0E+00 \n",
       "        (+2.9E+00)                                      |                  (+0.0E+00)  (+2.7E+01)  (+3.7E-01)  (+6.1E-01)\n",
       "                                                        |                                                                \n",
       "prices   +9.4E+00    +0.0E+00                           |      prices       +0.0E+00    +8.8E+01    -1.2E+00    -2.0E+00 \n",
       "        (+7.8E+00)  (+3.4E+02)                          |                  (+2.7E+01)  (+1.5E+02)  (+1.1E+00)  (+1.4E+01)\n",
       "                                                        |                                                                \n",
       "sugar    -1.3E-01    +1.6E-04    +1.8E-03               |      sugar        +0.0E+00    -1.2E+00    +1.6E-02    +2.6E-02 \n",
       "        (+1.7E-01)  (+7.2E+00)  (+3.0E+00)              |                  (+3.7E-01)  (+1.1E+00)  (+5.0E-02)  (+3.1E-01)\n",
       "                                                        |                                                                \n",
       "mushy    -2.1E-01    -8.4E-03    -1.2E-02    +0.0E+00   |      mushy        +0.0E+00    -2.0E+00    +2.6E-02    +4.4E-02 \n",
       "        (+1.5E+00)  (+1.2E+02)  (+9.4E+01)  (+1.0E+02)  |                  (+6.1E-01)  (+1.4E+01)  (+3.1E-01)  (+2.2E+00)\n",
       "=========================================================================================================================\n",
       "\n",
       "Beta Estimates (Robust SEs in Parentheses):\n",
       "==========\n",
       "  prices  \n",
       "----------\n",
       " -3.1E+01 \n",
       "(+6.4E+00)\n",
       "=========="
      ]
     },
     "execution_count": 10,
     "metadata": {},
     "output_type": "execute_result"
    }
   ],
   "source": [
    "halton_results = halton_problem.solve(sigma=np.ones((4, 4)), optimization=lbfgsb)\n",
    "halton_results"
   ]
  },
  {
   "cell_type": "markdown",
   "metadata": {},
   "source": [
    "We see that all three models give similar estimates of the price coefficient $\\hat{\\alpha} \\approx -31$. Note a few of the estimated terms on the diagonal of $\\Sigma$ are negative. Since the diagonal consists of standard deviations, negative values are unrealistic. When using another optimization routine that supports bounds (like the default L-BFGS-B routine), these diagonal elements are by default bounded from below by zero."
   ]
  },
  {
   "cell_type": "markdown",
   "metadata": {},
   "source": [
    "### Adding Demographics"
   ]
  },
  {
   "cell_type": "code",
   "execution_count": 25,
   "metadata": {},
   "outputs": [
    {
     "data": {
      "text/html": [
       "<div>\n",
       "<style scoped>\n",
       "    .dataframe tbody tr th:only-of-type {\n",
       "        vertical-align: middle;\n",
       "    }\n",
       "\n",
       "    .dataframe tbody tr th {\n",
       "        vertical-align: top;\n",
       "    }\n",
       "\n",
       "    .dataframe thead th {\n",
       "        text-align: right;\n",
       "    }\n",
       "</style>\n",
       "<table border=\"1\" class=\"dataframe\">\n",
       "  <thead>\n",
       "    <tr style=\"text-align: right;\">\n",
       "      <th></th>\n",
       "      <th>market_ids</th>\n",
       "      <th>city_ids</th>\n",
       "      <th>quarter</th>\n",
       "      <th>weights</th>\n",
       "      <th>nodes0</th>\n",
       "      <th>nodes1</th>\n",
       "      <th>nodes2</th>\n",
       "      <th>nodes3</th>\n",
       "      <th>income</th>\n",
       "      <th>income_squared</th>\n",
       "      <th>age</th>\n",
       "      <th>child</th>\n",
       "    </tr>\n",
       "  </thead>\n",
       "  <tbody>\n",
       "    <tr>\n",
       "      <th>0</th>\n",
       "      <td>C01Q1</td>\n",
       "      <td>1</td>\n",
       "      <td>1</td>\n",
       "      <td>0.05</td>\n",
       "      <td>0.434101</td>\n",
       "      <td>-1.500838</td>\n",
       "      <td>-1.151079</td>\n",
       "      <td>0.161017</td>\n",
       "      <td>0.495123</td>\n",
       "      <td>8.331304</td>\n",
       "      <td>-0.230109</td>\n",
       "      <td>-0.230851</td>\n",
       "    </tr>\n",
       "    <tr>\n",
       "      <th>1</th>\n",
       "      <td>C01Q1</td>\n",
       "      <td>1</td>\n",
       "      <td>1</td>\n",
       "      <td>0.05</td>\n",
       "      <td>-0.726649</td>\n",
       "      <td>0.133182</td>\n",
       "      <td>-0.500750</td>\n",
       "      <td>0.129732</td>\n",
       "      <td>0.378762</td>\n",
       "      <td>6.121865</td>\n",
       "      <td>-2.532694</td>\n",
       "      <td>0.769149</td>\n",
       "    </tr>\n",
       "    <tr>\n",
       "      <th>2</th>\n",
       "      <td>C01Q1</td>\n",
       "      <td>1</td>\n",
       "      <td>1</td>\n",
       "      <td>0.05</td>\n",
       "      <td>-0.623061</td>\n",
       "      <td>-0.138241</td>\n",
       "      <td>0.797441</td>\n",
       "      <td>-0.795549</td>\n",
       "      <td>0.105015</td>\n",
       "      <td>1.030803</td>\n",
       "      <td>-0.006965</td>\n",
       "      <td>-0.230851</td>\n",
       "    </tr>\n",
       "    <tr>\n",
       "      <th>3</th>\n",
       "      <td>C01Q1</td>\n",
       "      <td>1</td>\n",
       "      <td>1</td>\n",
       "      <td>0.05</td>\n",
       "      <td>-0.041317</td>\n",
       "      <td>1.257136</td>\n",
       "      <td>-0.683054</td>\n",
       "      <td>0.259044</td>\n",
       "      <td>-1.485481</td>\n",
       "      <td>-25.583605</td>\n",
       "      <td>-0.827946</td>\n",
       "      <td>0.769149</td>\n",
       "    </tr>\n",
       "    <tr>\n",
       "      <th>4</th>\n",
       "      <td>C01Q1</td>\n",
       "      <td>1</td>\n",
       "      <td>1</td>\n",
       "      <td>0.05</td>\n",
       "      <td>-0.466691</td>\n",
       "      <td>0.226968</td>\n",
       "      <td>1.044424</td>\n",
       "      <td>0.092019</td>\n",
       "      <td>-0.316597</td>\n",
       "      <td>-6.517009</td>\n",
       "      <td>-0.230109</td>\n",
       "      <td>-0.230851</td>\n",
       "    </tr>\n",
       "  </tbody>\n",
       "</table>\n",
       "</div>"
      ],
      "text/plain": [
       "  market_ids  city_ids  quarter  weights    nodes0    nodes1    nodes2  \\\n",
       "0      C01Q1         1        1     0.05  0.434101 -1.500838 -1.151079   \n",
       "1      C01Q1         1        1     0.05 -0.726649  0.133182 -0.500750   \n",
       "2      C01Q1         1        1     0.05 -0.623061 -0.138241  0.797441   \n",
       "3      C01Q1         1        1     0.05 -0.041317  1.257136 -0.683054   \n",
       "4      C01Q1         1        1     0.05 -0.466691  0.226968  1.044424   \n",
       "\n",
       "     nodes3    income  income_squared       age     child  \n",
       "0  0.161017  0.495123        8.331304 -0.230109 -0.230851  \n",
       "1  0.129732  0.378762        6.121865 -2.532694  0.769149  \n",
       "2 -0.795549  0.105015        1.030803 -0.006965 -0.230851  \n",
       "3  0.259044 -1.485481      -25.583605 -0.827946  0.769149  \n",
       "4  0.092019 -0.316597       -6.517009 -0.230109 -0.230851  "
      ]
     },
     "execution_count": 25,
     "metadata": {},
     "output_type": "execute_result"
    }
   ],
   "source": [
    "agent_data = pd.read_csv(pyblp.data.NEVO_AGENTS_LOCATION)\n",
    "agent_data.head()"
   ]
  },
  {
   "cell_type": "code",
   "execution_count": 26,
   "metadata": {},
   "outputs": [
    {
     "data": {
      "text/plain": [
       "income + income_squared + age + child"
      ]
     },
     "execution_count": 26,
     "metadata": {},
     "output_type": "execute_result"
    }
   ],
   "source": [
    "agent_formulation = pyblp.Formulation('0 + income + income_squared + age + child')\n",
    "agent_formulation"
   ]
  },
  {
   "cell_type": "code",
   "execution_count": 28,
   "metadata": {},
   "outputs": [
    {
     "data": {
      "text/plain": [
       "Dimensions:\n",
       "=================================================\n",
       " T    N     F    I     K1    K2    D    MD    ED \n",
       "---  ----  ---  ----  ----  ----  ---  ----  ----\n",
       "94   2256   5   1880   1     4     4    20    1  \n",
       "=================================================\n",
       "\n",
       "Formulations:\n",
       "===================================================================\n",
       "       Column Indices:           0           1           2      3  \n",
       "-----------------------------  ------  --------------  -----  -----\n",
       " X1: Linear Characteristics    prices                              \n",
       "X2: Nonlinear Characteristics    1         prices      sugar  mushy\n",
       "       d: Demographics         income  income_squared   age   child\n",
       "==================================================================="
      ]
     },
     "execution_count": 28,
     "metadata": {},
     "output_type": "execute_result"
    }
   ],
   "source": [
    "nevo_problem = pyblp.Problem(\n",
    "    product_formulations,\n",
    "    product_data,\n",
    "    agent_formulation,\n",
    "    agent_data\n",
    ")\n",
    "nevo_problem"
   ]
  },
  {
   "cell_type": "code",
   "execution_count": 34,
   "metadata": {},
   "outputs": [
    {
     "data": {
      "text/plain": [
       "Problem Results Summary:\n",
       "==============================================================================================================\n",
       "GMM   Objective    Projected    Reduced Hessian  Reduced Hessian  Clipped  Weighting Matrix  Covariance Matrix\n",
       "Step    Value    Gradient Norm  Min Eigenvalue   Max Eigenvalue   Shares   Condition Number  Condition Number \n",
       "----  ---------  -------------  ---------------  ---------------  -------  ----------------  -----------------\n",
       " 1    +4.7E+00     +9.4E-03        +1.5E-13         +8.9E+03         0         +6.9E+07          +8.0E+08     \n",
       "==============================================================================================================\n",
       "\n",
       "Cumulative Statistics:\n",
       "===========================================================================\n",
       "Computation  Optimizer  Optimization   Objective   Fixed Point  Contraction\n",
       "   Time      Converged   Iterations   Evaluations  Iterations   Evaluations\n",
       "-----------  ---------  ------------  -----------  -----------  -----------\n",
       " 00:02:29       Yes         662           706        564866       1756023  \n",
       "===========================================================================\n",
       "\n",
       "Nonlinear Coefficient Estimates (Robust SEs in Parentheses):\n",
       "=====================================================================================================================\n",
       "Sigma:      1         prices      sugar       mushy     |   Pi:      income    income_squared     age        child   \n",
       "------  ----------  ----------  ----------  ----------  |  ------  ----------  --------------  ----------  ----------\n",
       "  1      +5.2E-01                                       |    1      +2.4E+00      +0.0E+00      +1.2E+00    +0.0E+00 \n",
       "        (+1.5E-01)                                      |          (+1.1E+00)                  (+5.9E-01)            \n",
       "                                                        |                                                            \n",
       "prices   +0.0E+00    +3.2E+00                           |  prices   +5.4E+02      -2.8E+01      +0.0E+00    +1.1E+01 \n",
       "                    (+1.2E+00)                          |          (+2.5E+02)    (+1.3E+01)                (+4.0E+00)\n",
       "                                                        |                                                            \n",
       "sugar    +0.0E+00    +0.0E+00    +0.0E+00               |  sugar    -3.7E-01      +0.0E+00      +5.1E-02    +0.0E+00 \n",
       "                                (+1.3E-02)              |          (+1.1E-01)                  (+2.4E-02)            \n",
       "                                                        |                                                            \n",
       "mushy    +0.0E+00    +0.0E+00    +0.0E+00    +8.3E-02   |  mushy    +8.1E-01      +0.0E+00      -1.3E+00    +0.0E+00 \n",
       "                                            (+1.8E-01)  |          (+7.4E-01)                  (+6.3E-01)            \n",
       "=====================================================================================================================\n",
       "\n",
       "Beta Estimates (Robust SEs in Parentheses):\n",
       "==========\n",
       "  prices  \n",
       "----------\n",
       " -6.0E+01 \n",
       "(+1.4E+01)\n",
       "=========="
      ]
     },
     "execution_count": 34,
     "metadata": {},
     "output_type": "execute_result"
    }
   ],
   "source": [
    "initial_sigma = np.diag([0.3302, 2.4526, 0.0163, 0.2441])\n",
    "initial_pi = np.array([\n",
    "  [ 5.4819,  0,      0.2037,  0     ],\n",
    "  [15.8935, -1.2000, 0,       2.6342],\n",
    "  [-0.2506,  0,      0.0511,  0     ],\n",
    "  [ 1.2650,  0,     -0.8091,  0     ]\n",
    "])\n",
    "\n",
    "nevo_results = nevo_problem.solve(\n",
    "    initial_sigma,\n",
    "    initial_pi,\n",
    "    optimization=lbfgsb,\n",
    "    method='1s'\n",
    ")\n",
    "nevo_results"
   ]
  },
  {
   "cell_type": "code",
   "execution_count": 35,
   "metadata": {},
   "outputs": [
    {
     "data": {
      "text/plain": [
       "Problem Results Summary:\n",
       "==============================================================================================================\n",
       "GMM   Objective    Projected    Reduced Hessian  Reduced Hessian  Clipped  Weighting Matrix  Covariance Matrix\n",
       "Step    Value    Gradient Norm  Min Eigenvalue   Max Eigenvalue   Shares   Condition Number  Condition Number \n",
       "----  ---------  -------------  ---------------  ---------------  -------  ----------------  -----------------\n",
       " 1    +1.6E+01     +3.2E-02        +2.5E-13         +1.0E+04         0         +6.9E+07          +5.1E+05     \n",
       "==============================================================================================================\n",
       "\n",
       "Cumulative Statistics:\n",
       "===========================================================================\n",
       "Computation  Optimizer  Optimization   Objective   Fixed Point  Contraction\n",
       "   Time      Converged   Iterations   Evaluations  Iterations   Evaluations\n",
       "-----------  ---------  ------------  -----------  -----------  -----------\n",
       " 00:01:15       Yes         336           369        270862       843885   \n",
       "===========================================================================\n",
       "\n",
       "Nonlinear Coefficient Estimates (Robust SEs in Parentheses):\n",
       "=====================================================================================================================\n",
       "Sigma:      1         prices      sugar       mushy     |   Pi:      income    income_squared     age        child   \n",
       "------  ----------  ----------  ----------  ----------  |  ------  ----------  --------------  ----------  ----------\n",
       "  1      +3.6E-01                                       |    1      +3.2E+00      +0.0E+00      +1.1E+00    +0.0E+00 \n",
       "        (+1.2E-01)                                      |          (+9.6E-01)                  (+9.3E-01)            \n",
       "                                                        |                                                            \n",
       "prices   +0.0E+00    +1.9E+00                           |  prices   +3.9E+00      +0.0E+00      +0.0E+00    +1.2E+01 \n",
       "                    (+8.8E-01)                          |          (+4.3E+00)                              (+4.8E+00)\n",
       "                                                        |                                                            \n",
       "sugar    +0.0E+00    +0.0E+00    +0.0E+00               |  sugar    -1.9E-01      +0.0E+00      +3.0E-02    +0.0E+00 \n",
       "                                (+1.1E-02)              |          (+3.3E-02)                  (+2.9E-02)            \n",
       "                                                        |                                                            \n",
       "mushy    +0.0E+00    +0.0E+00    +0.0E+00    +8.5E-02   |  mushy    +1.5E+00      +0.0E+00      -1.5E+00    +0.0E+00 \n",
       "                                            (+1.8E-01)  |          (+6.1E-01)                  (+1.0E+00)            \n",
       "=====================================================================================================================\n",
       "\n",
       "Beta Estimates (Robust SEs in Parentheses):\n",
       "==========\n",
       "  prices  \n",
       "----------\n",
       " -3.2E+01 \n",
       "(+2.2E+00)\n",
       "=========="
      ]
     },
     "execution_count": 35,
     "metadata": {},
     "output_type": "execute_result"
    }
   ],
   "source": [
    "restricted_pi = initial_pi.copy()\n",
    "restricted_pi[1, 1] = 0\n",
    "nevo_problem.solve(\n",
    "    initial_sigma,\n",
    "    restricted_pi,\n",
    "    optimization=lbfgsb,\n",
    "    method='1s'\n",
    ")"
   ]
  }
 ],
 "metadata": {
  "kernelspec": {
   "display_name": "Python (pyenv 3.10.4)",
   "language": "python",
   "name": "pyenv_3.10.4"
  },
  "language_info": {
   "codemirror_mode": {
    "name": "ipython",
    "version": 3
   },
   "file_extension": ".py",
   "mimetype": "text/x-python",
   "name": "python",
   "nbconvert_exporter": "python",
   "pygments_lexer": "ipython3",
   "version": "3.10.4"
  },
  "pycharm": {
   "stem_cell": {
    "cell_type": "raw",
    "metadata": {
     "collapsed": false
    },
    "source": []
   }
  }
 },
 "nbformat": 4,
 "nbformat_minor": 4
}
