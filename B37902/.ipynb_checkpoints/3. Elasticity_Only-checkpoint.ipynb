{
 "cells": [
  {
   "cell_type": "markdown",
   "metadata": {},
   "source": [
    "# Post-Estimation Tutorial"
   ]
  },
  {
   "cell_type": "code",
   "execution_count": 1,
   "metadata": {},
   "outputs": [],
   "source": [
    "%matplotlib inline\n",
    "\n",
    "import pyblp\n",
    "import numpy as np\n",
    "import pandas as pd\n",
    "import matplotlib.pyplot as plt\n",
    "\n",
    "pyblp.options.digits = 2\n",
    "pyblp.options.verbose = False"
   ]
  },
  {
   "cell_type": "markdown",
   "metadata": {},
   "source": [
    "This tutorial covers several features of `pyblp` which are available after estimation including:\n",
    "\n",
    "1. Calculating elasticities and diversion ratios.\n",
    "2. Calculating marginal costs and markups.\n",
    "3. Computing the effects of mergers: prices, shares, and HHI.\n",
    "4. Using a parametric bootstrap to estimate standard errors.\n",
    "5. Estimating optimal instruments.\n",
    "6. Constructing optimal micro moments.\n",
    "\n",
    "\n",
    "## Problem Results\n",
    "\n",
    "As in the [fake cereal tutorial](nevo.ipynb), we'll first solve the fake cereal problem from [Nevo (2000a)](https://pyblp.readthedocs.io/en/stable/references.html#nevo-2000a). We load the fake data and estimate the model as in the previous tutorial. We output the setup of the model to confirm we have correctly configured the [`Problem`](https://pyblp.readthedocs.io/en/stable/_api/pyblp.Problem.html#pyblp.Problem)"
   ]
  },
  {
   "cell_type": "code",
   "execution_count": 4,
   "metadata": {},
   "outputs": [
    {
     "data": {
      "text/plain": [
       "Dimensions:\n",
       "=================================================\n",
       " T    N     F    I     K1    K2    D    MD    ED \n",
       "---  ----  ---  ----  ----  ----  ---  ----  ----\n",
       "94   2256   5   1880   1     4     4    20    1  \n",
       "=================================================\n",
       "\n",
       "Formulations:\n",
       "===================================================================\n",
       "       Column Indices:           0           1           2      3  \n",
       "-----------------------------  ------  --------------  -----  -----\n",
       " X1: Linear Characteristics    prices                              \n",
       "X2: Nonlinear Characteristics    1         prices      sugar  mushy\n",
       "       d: Demographics         income  income_squared   age   child\n",
       "==================================================================="
      ]
     },
     "execution_count": 4,
     "metadata": {},
     "output_type": "execute_result"
    }
   ],
   "source": [
    "product_data = pd.read_csv(pyblp.data.NEVO_PRODUCTS_LOCATION)\n",
    "agent_data = pd.read_csv(pyblp.data.NEVO_AGENTS_LOCATION)\n",
    "product_formulations = (\n",
    "   pyblp.Formulation('0 + prices', absorb='C(product_ids)'),\n",
    "   pyblp.Formulation('1 + prices + sugar + mushy')\n",
    ")\n",
    "agent_formulation = pyblp.Formulation('0 + income + income_squared + age + child')\n",
    "problem = pyblp.Problem(product_formulations, product_data, agent_formulation, agent_data)\n",
    "problem"
   ]
  },
  {
   "cell_type": "markdown",
   "metadata": {},
   "source": [
    "We'll solve the problem in the same way as before. The [`Problem.solve`](https://pyblp.readthedocs.io/en/stable/_api/pyblp.Problem.solve.html#pyblp.Problem.solve) method returns a [`ProblemResults`](https://pyblp.readthedocs.io/en/stable/_api/pyblp.ProblemResults.html#pyblp.ProblemResults) class, which displays basic estimation results. The results that are displayed are simply formatted information extracted from various class attributes such as [`ProblemResults.sigma`](https://pyblp.readthedocs.io/en/stable/_api/pyblp.ProblemResults.html#pyblp.ProblemResults.sigma) and [`ProblemResults.sigma_se`](https://pyblp.readthedocs.io/en/stable/_api/pyblp.ProblemResults.html#pyblp.ProblemResults.sigma_se)."
   ]
  },
  {
   "cell_type": "code",
   "execution_count": 5,
   "metadata": {},
   "outputs": [
    {
     "data": {
      "text/plain": [
       "Problem Results Summary:\n",
       "==============================================================================================================\n",
       "GMM   Objective    Projected    Reduced Hessian  Reduced Hessian  Clipped  Weighting Matrix  Covariance Matrix\n",
       "Step    Value    Gradient Norm  Min Eigenvalue   Max Eigenvalue   Shares   Condition Number  Condition Number \n",
       "----  ---------  -------------  ---------------  ---------------  -------  ----------------  -----------------\n",
       " 1    +4.7E+00     +9.4E-03        +1.5E-13         +8.9E+03         0         +6.9E+07          +8.0E+08     \n",
       "==============================================================================================================\n",
       "\n",
       "Cumulative Statistics:\n",
       "===========================================================================\n",
       "Computation  Optimizer  Optimization   Objective   Fixed Point  Contraction\n",
       "   Time      Converged   Iterations   Evaluations  Iterations   Evaluations\n",
       "-----------  ---------  ------------  -----------  -----------  -----------\n",
       " 00:02:28       Yes         662           706        564866       1756023  \n",
       "===========================================================================\n",
       "\n",
       "Nonlinear Coefficient Estimates (Robust SEs in Parentheses):\n",
       "=====================================================================================================================\n",
       "Sigma:      1         prices      sugar       mushy     |   Pi:      income    income_squared     age        child   \n",
       "------  ----------  ----------  ----------  ----------  |  ------  ----------  --------------  ----------  ----------\n",
       "  1      +5.2E-01                                       |    1      +2.4E+00      +0.0E+00      +1.2E+00    +0.0E+00 \n",
       "        (+1.5E-01)                                      |          (+1.1E+00)                  (+5.9E-01)            \n",
       "                                                        |                                                            \n",
       "prices   +0.0E+00    +3.2E+00                           |  prices   +5.4E+02      -2.8E+01      +0.0E+00    +1.1E+01 \n",
       "                    (+1.2E+00)                          |          (+2.5E+02)    (+1.3E+01)                (+4.0E+00)\n",
       "                                                        |                                                            \n",
       "sugar    +0.0E+00    +0.0E+00    +0.0E+00               |  sugar    -3.7E-01      +0.0E+00      +5.1E-02    +0.0E+00 \n",
       "                                (+1.3E-02)              |          (+1.1E-01)                  (+2.4E-02)            \n",
       "                                                        |                                                            \n",
       "mushy    +0.0E+00    +0.0E+00    +0.0E+00    +8.3E-02   |  mushy    +8.1E-01      +0.0E+00      -1.3E+00    +0.0E+00 \n",
       "                                            (+1.8E-01)  |          (+7.4E-01)                  (+6.3E-01)            \n",
       "=====================================================================================================================\n",
       "\n",
       "Beta Estimates (Robust SEs in Parentheses):\n",
       "==========\n",
       "  prices  \n",
       "----------\n",
       " -6.0E+01 \n",
       "(+1.4E+01)\n",
       "=========="
      ]
     },
     "execution_count": 5,
     "metadata": {},
     "output_type": "execute_result"
    }
   ],
   "source": [
    "initial_sigma = np.diag([0.3302, 2.4526, 0.0163, 0.2441])\n",
    "initial_pi = [\n",
    "  [ 5.4819,  0,      0.2037,  0     ],\n",
    "  [15.8935, -1.2000, 0,       2.6342],\n",
    "  [-0.2506,  0,      0.0511,  0     ],\n",
    "  [ 1.2650,  0,     -0.8091,  0     ]\n",
    "]\n",
    "results = problem.solve(\n",
    "    initial_sigma,\n",
    "    initial_pi,\n",
    "    optimization=pyblp.Optimization('l-bfgs-b', {'gtol': 1e-6}),\n",
    "    method='1s'\n",
    ")\n",
    "results"
   ]
  },
  {
   "cell_type": "markdown",
   "metadata": {},
   "source": [
    "Additional post-estimation outputs can be computed with [`ProblemResults`](https://pyblp.readthedocs.io/en/stable/_api/pyblp.ProblemResults.html#pyblp.ProblemResults) methods.\n",
    "\n",
    "\n",
    "## Elasticities and Diversion Ratios\n",
    "\n",
    "We can estimate elasticities, $\\varepsilon$, and diversion ratios, $\\mathscr{D}$, with [`ProblemResults.compute_elasticities`](https://pyblp.readthedocs.io/en/stable/_api/pyblp.ProblemResults.compute_elasticities.html#pyblp.ProblemResults.compute_elasticities) and [`ProblemResults.compute_diversion_ratios`](https://pyblp.readthedocs.io/en/stable/_api/pyblp.ProblemResults.compute_diversion_ratios.html#pyblp.ProblemResults.compute_diversion_ratios).\n",
    "\n",
    "As a reminder, elasticities in each market are\n",
    "\n",
    "$$\\varepsilon_{jk} = \\frac{x_k}{s_j}\\frac{\\partial s_j}{\\partial x_k}.$$\n",
    "\n",
    "Diversion ratios are\n",
    "\n",
    "$$\\mathscr{D}_{jk} = -\\frac{\\partial s_k}{\\partial x_j} \\Big/ \\frac{\\partial s_j}{\\partial x_j}.$$\n",
    "\n",
    "Following [Conlon and Mortimer (2018)](https://pyblp.readthedocs.io/en/stable/references.html#conlon-and-mortimer-2018), we report the diversion to the outside good $D_{j0}$ on the diagonal instead of $D_{jj}=-1$."
   ]
  },
  {
   "cell_type": "code",
   "execution_count": 6,
   "metadata": {},
   "outputs": [],
   "source": [
    "elasticities = results.compute_elasticities()\n",
    "diversions = results.compute_diversion_ratios()"
   ]
  },
  {
   "cell_type": "markdown",
   "metadata": {},
   "source": [
    "Post-estimation outputs are computed for each market and stacked. We'll use [matplotlib](https://matplotlib.org/) functions to display the matrices associated with a single market."
   ]
  },
  {
   "cell_type": "code",
   "execution_count": 7,
   "metadata": {},
   "outputs": [
    {
     "data": {
      "image/png": "[encoded data removed]",
      "text/plain": [
       "<Figure size 480x480 with 2 Axes>"
      ]
     },
     "metadata": {},
     "output_type": "display_data"
    }
   ],
   "source": [
    "single_market = product_data['market_ids'] == 'C01Q1'\n",
    "plt.colorbar(plt.matshow(elasticities[single_market]));"
   ]
  },
  {
   "cell_type": "code",
   "execution_count": 8,
   "metadata": {},
   "outputs": [
    {
     "data": {
      "image/png": "[encoded data removed]",
      "text/plain": [
       "<Figure size 480x480 with 2 Axes>"
      ]
     },
     "metadata": {},
     "output_type": "display_data"
    }
   ],
   "source": [
    "plt.colorbar(plt.matshow(diversions[single_market]));"
   ]
  },
  {
   "cell_type": "markdown",
   "metadata": {},
   "source": [
    "The diagonal of the first image consists of own elasticities and the diagonal of the second image consists of diversion ratios to the outside good. As one might expect, own price elasticities are large and negative while cross-price elasticities are positive but much smaller.\n",
    "\n",
    "Elasticities and diversion ratios can be computed with respect to variables other than `prices` with the `name` argument of [`ProblemResults.compute_elasticities`](https://pyblp.readthedocs.io/en/stable/_api/pyblp.ProblemResults.compute_elasticities.html#pyblp.ProblemResults.compute_elasticities) and [`ProblemResults.compute_diversion_ratios`](https://pyblp.readthedocs.io/en/stable/_api/pyblp.ProblemResults.compute_diversion_ratios.html#pyblp.ProblemResults.compute_diversion_ratios). Additionally, [`ProblemResults.compute_long_run_diversion_ratios`](https://pyblp.readthedocs.io/en/stable/_api/pyblp.ProblemResults.compute_long_run_diversion_ratios.html#pyblp.ProblemResults.compute_long_run_diversion_ratios) can be used to used to understand substitution when products are eliminated from the choice set.\n",
    "\n",
    "The convenience methods [`ProblemResults.extract_diagonals`](https://pyblp.readthedocs.io/en/stable/_api/pyblp.ProblemResults.extract_diagonals.html#pyblp.ProblemResults.extract_diagonals) and [`ProblemResults.extract_diagonal_means`](https://pyblp.readthedocs.io/en/stable/_api/pyblp.ProblemResults.extract_diagonal_means.html#pyblp.ProblemResults.extract_diagonal_means) can be used to extract information about own elasticities of demand from elasticity matrices."
   ]
  },
  {
   "cell_type": "code",
   "execution_count": 9,
   "metadata": {},
   "outputs": [],
   "source": [
    "means = results.extract_diagonal_means(elasticities)"
   ]
  },
  {
   "cell_type": "markdown",
   "metadata": {},
   "source": [
    "An alternative to summarizing full elasticity matrices is to use [`ProblemResults.compute_aggregate_elasticities`](https://pyblp.readthedocs.io/en/stable/_api/pyblp.ProblemResults.compute_aggregate_elasticities.html#pyblp.ProblemResults.compute_aggregate_elasticities) to estimate aggregate elasticities of demand, $E$, in each market, which reflect the change in total sales under a proportional sales tax of some factor."
   ]
  },
  {
   "cell_type": "code",
   "execution_count": 10,
   "metadata": {},
   "outputs": [],
   "source": [
    "aggregates = results.compute_aggregate_elasticities(factor=0.1)"
   ]
  },
  {
   "cell_type": "markdown",
   "metadata": {},
   "source": [
    "Since demand for an entire product category is generally less elastic than the average elasticity of individual products, mean own elasticities are generally larger in magnitude than aggregate elasticities."
   ]
  },
  {
   "cell_type": "code",
   "execution_count": 11,
   "metadata": {},
   "outputs": [
    {
     "data": {
      "image/png": "[encoded data removed]",
      "text/plain": [
       "<Figure size 640x480 with 1 Axes>"
      ]
     },
     "metadata": {},
     "output_type": "display_data"
    }
   ],
   "source": [
    "plt.hist(\n",
    "    [means.flatten(), aggregates.flatten()], \n",
    "    color=['red', 'blue'], \n",
    "    bins=50\n",
    ");\n",
    "plt.legend(['Mean Own Elasticities', 'Aggregate Elasticities']);"
   ]
  },
  {
   "cell_type": "markdown",
   "metadata": {},
   "source": [
    "## Bootstrapping Results\n",
    "\n",
    "Post-estimation outputs can be informative, but they don't mean much without a sense sample-to-sample variability. One way to estimate confidence intervals for post-estimation outputs is with a standard bootstrap procedure:\n",
    "\n",
    "1. Construct a large number of bootstrap samples by sampling with replacement from the original product data.\n",
    "2. Initialize and solve a [`Problem`](https://pyblp.readthedocs.io/en/stable/_api/pyblp.Problem.html#pyblp.Problem) for each bootstrap sample.\n",
    "3. Compute the desired post-estimation output for each bootstrapped [`ProblemResults`](https://pyblp.readthedocs.io/en/stable/_api/pyblp.ProblemResults.html#pyblp.ProblemResults) and from the resulting empirical distribution, construct boostrap confidence intervals.\n",
    "\n",
    "Although appealing because of its simplicity, the computational resources required for this procedure are often prohibitively expensive. Furthermore, human oversight of the optimization routine is often required to determine whether the routine ran into any problems and if it successfully converged. Human oversight of estimation for each bootstrapped problem is usually not feasible.\n",
    "\n",
    "A more reasonable alternative is a parametric bootstrap procedure:\n",
    "\n",
    "1. Construct a large number of draws from the estimated joint distribution of parameters.\n",
    "2. Compute the implied mean utility, $\\delta$, and shares, $s$, for each draw. If a supply side was estimated, also computed the implied marginal costs, $c$, and prices, $p$.\n",
    "3. Compute the desired post-estimation output under each of these parametric bootstrap samples. Again, from the resulting empirical distribution, construct boostrap confidence intervals.\n",
    "\n",
    "Compared to the standard bootstrap procedure, the parametric bootstrap requires far fewer computational resources, and is simple enough to not require human oversight of each bootstrap iteration. The primary complication to this procedure is that when supply is estimated, equilibrium prices and shares need to be computed for each parametric bootstrap sample by iterating over the $\\zeta$-markup equation from [Morrow and Skerlos (2011)](https://pyblp.readthedocs.io/en/stable/references.html#morrow-and-skerlos-2011). Although nontrivial, this fixed point iteration problem is much less demanding than the full optimization routine required to solve the BLP problem from the start.\n",
    "\n",
    "An empirical distribution of results computed according to this parametric bootstrap procedure can be created with the [`ProblemResults.bootstrap`](https://pyblp.readthedocs.io/en/stable/_api/pyblp.ProblemResults.bootstrap.html#pyblp.ProblemResults.bootstrap) method, which returns a [`BootstrappedResults`](https://pyblp.readthedocs.io/en/stable/_api/pyblp.BootstrappedResults.html#pyblp.BootstrappedResults) class that can be used just like [`ProblemResults`](https://pyblp.readthedocs.io/en/stable/_api/pyblp.ProblemResults.html#pyblp.ProblemResults) to compute various post-estimation outputs. The difference is that [`BootstrappedResults`](https://pyblp.readthedocs.io/en/stable/_api/pyblp.BootstrappedResults.html#pyblp.BootstrappedResults) methods return arrays with an extra first dimension, along which bootstrapped results are stacked.\n",
    "\n",
    "We'll construct 90% parametric bootstrap confidence intervals for estimated mean own elasticities in each market of the fake cereal problem. Usually, bootstrapped confidence intervals should be based on thousands of draws, but we'll only use a few for the sake of speed in this example."
   ]
  },
  {
   "cell_type": "code",
   "execution_count": 12,
   "metadata": {},
   "outputs": [
    {
     "data": {
      "text/plain": [
       "Bootstrapped Results Summary:\n",
       "======================\n",
       "Computation  Bootstrap\n",
       "   Time        Draws  \n",
       "-----------  ---------\n",
       " 00:00:20      1000   \n",
       "======================"
      ]
     },
     "execution_count": 12,
     "metadata": {},
     "output_type": "execute_result"
    }
   ],
   "source": [
    "bootstrapped_results = results.bootstrap(draws=1000, seed=1128)\n",
    "bootstrapped_results"
   ]
  },
  {
   "cell_type": "code",
   "execution_count": 13,
   "metadata": {},
   "outputs": [
    {
     "data": {
      "text/html": [
       "<div>\n",
       "<style scoped>\n",
       "    .dataframe tbody tr th:only-of-type {\n",
       "        vertical-align: middle;\n",
       "    }\n",
       "\n",
       "    .dataframe tbody tr th {\n",
       "        vertical-align: top;\n",
       "    }\n",
       "\n",
       "    .dataframe thead th {\n",
       "        text-align: right;\n",
       "    }\n",
       "</style>\n",
       "<table border=\"1\" class=\"dataframe\">\n",
       "  <thead>\n",
       "    <tr style=\"text-align: right;\">\n",
       "      <th></th>\n",
       "      <th>Lower Bound</th>\n",
       "      <th>Mean Own Elasticity</th>\n",
       "      <th>Upper Bound</th>\n",
       "    </tr>\n",
       "  </thead>\n",
       "  <tbody>\n",
       "    <tr>\n",
       "      <th>C01Q1</th>\n",
       "      <td>-4.30</td>\n",
       "      <td>-4.19</td>\n",
       "      <td>-3.81</td>\n",
       "    </tr>\n",
       "    <tr>\n",
       "      <th>C01Q2</th>\n",
       "      <td>-4.07</td>\n",
       "      <td>-3.96</td>\n",
       "      <td>-3.67</td>\n",
       "    </tr>\n",
       "    <tr>\n",
       "      <th>C03Q1</th>\n",
       "      <td>-3.67</td>\n",
       "      <td>-3.41</td>\n",
       "      <td>-3.17</td>\n",
       "    </tr>\n",
       "    <tr>\n",
       "      <th>C03Q2</th>\n",
       "      <td>-3.60</td>\n",
       "      <td>-3.35</td>\n",
       "      <td>-3.12</td>\n",
       "    </tr>\n",
       "    <tr>\n",
       "      <th>C04Q1</th>\n",
       "      <td>-3.31</td>\n",
       "      <td>-3.16</td>\n",
       "      <td>-2.94</td>\n",
       "    </tr>\n",
       "  </tbody>\n",
       "</table>\n",
       "</div>"
      ],
      "text/plain": [
       "       Lower Bound  Mean Own Elasticity  Upper Bound\n",
       "C01Q1        -4.30                -4.19        -3.81\n",
       "C01Q2        -4.07                -3.96        -3.67\n",
       "C03Q1        -3.67                -3.41        -3.17\n",
       "C03Q2        -3.60                -3.35        -3.12\n",
       "C04Q1        -3.31                -3.16        -2.94"
      ]
     },
     "execution_count": 13,
     "metadata": {},
     "output_type": "execute_result"
    }
   ],
   "source": [
    "bounds = np.percentile(\n",
    "    bootstrapped_results.extract_diagonal_means(\n",
    "        bootstrapped_results.compute_elasticities()\n",
    "    ), \n",
    "    q=[10, 90], \n",
    "    axis=0\n",
    ")\n",
    "table = pd.DataFrame(index=problem.unique_market_ids, data={\n",
    "    'Lower Bound': bounds[0].flatten(), \n",
    "    'Mean Own Elasticity': means.flatten(), \n",
    "    'Upper Bound': bounds[1].flatten()\n",
    "})\n",
    "table.round(2).head()"
   ]
  },
  {
   "cell_type": "markdown",
   "metadata": {},
   "source": [
    "The simulated micro data are a record array, which can be difficult to visualize. We'll convert it to a pandas dataframe, which is what we would usually load from an actual micro dataset file."
   ]
  },
  {
   "cell_type": "code",
   "execution_count": 26,
   "metadata": {},
   "outputs": [
    {
     "data": {
      "text/html": [
       "<div>\n",
       "<style scoped>\n",
       "    .dataframe tbody tr th:only-of-type {\n",
       "        vertical-align: middle;\n",
       "    }\n",
       "\n",
       "    .dataframe tbody tr th {\n",
       "        vertical-align: top;\n",
       "    }\n",
       "\n",
       "    .dataframe thead th {\n",
       "        text-align: right;\n",
       "    }\n",
       "</style>\n",
       "<table border=\"1\" class=\"dataframe\">\n",
       "  <thead>\n",
       "    <tr style=\"text-align: right;\">\n",
       "      <th></th>\n",
       "      <th>micro_ids</th>\n",
       "      <th>market_ids</th>\n",
       "      <th>agent_indices</th>\n",
       "      <th>choice_indices</th>\n",
       "    </tr>\n",
       "  </thead>\n",
       "  <tbody>\n",
       "    <tr>\n",
       "      <th>0</th>\n",
       "      <td>0</td>\n",
       "      <td>C61Q1</td>\n",
       "      <td>10</td>\n",
       "      <td>24</td>\n",
       "    </tr>\n",
       "    <tr>\n",
       "      <th>1</th>\n",
       "      <td>1</td>\n",
       "      <td>C61Q1</td>\n",
       "      <td>14</td>\n",
       "      <td>0</td>\n",
       "    </tr>\n",
       "    <tr>\n",
       "      <th>2</th>\n",
       "      <td>2</td>\n",
       "      <td>C61Q1</td>\n",
       "      <td>12</td>\n",
       "      <td>0</td>\n",
       "    </tr>\n",
       "    <tr>\n",
       "      <th>3</th>\n",
       "      <td>3</td>\n",
       "      <td>C61Q1</td>\n",
       "      <td>10</td>\n",
       "      <td>21</td>\n",
       "    </tr>\n",
       "    <tr>\n",
       "      <th>4</th>\n",
       "      <td>4</td>\n",
       "      <td>C61Q1</td>\n",
       "      <td>8</td>\n",
       "      <td>10</td>\n",
       "    </tr>\n",
       "    <tr>\n",
       "      <th>...</th>\n",
       "      <td>...</td>\n",
       "      <td>...</td>\n",
       "      <td>...</td>\n",
       "      <td>...</td>\n",
       "    </tr>\n",
       "    <tr>\n",
       "      <th>995</th>\n",
       "      <td>995</td>\n",
       "      <td>C61Q1</td>\n",
       "      <td>1</td>\n",
       "      <td>23</td>\n",
       "    </tr>\n",
       "    <tr>\n",
       "      <th>996</th>\n",
       "      <td>996</td>\n",
       "      <td>C61Q1</td>\n",
       "      <td>10</td>\n",
       "      <td>4</td>\n",
       "    </tr>\n",
       "    <tr>\n",
       "      <th>997</th>\n",
       "      <td>997</td>\n",
       "      <td>C61Q1</td>\n",
       "      <td>18</td>\n",
       "      <td>0</td>\n",
       "    </tr>\n",
       "    <tr>\n",
       "      <th>998</th>\n",
       "      <td>998</td>\n",
       "      <td>C61Q1</td>\n",
       "      <td>4</td>\n",
       "      <td>0</td>\n",
       "    </tr>\n",
       "    <tr>\n",
       "      <th>999</th>\n",
       "      <td>999</td>\n",
       "      <td>C61Q1</td>\n",
       "      <td>13</td>\n",
       "      <td>2</td>\n",
       "    </tr>\n",
       "  </tbody>\n",
       "</table>\n",
       "<p>1000 rows × 4 columns</p>\n",
       "</div>"
      ],
      "text/plain": [
       "    micro_ids market_ids  agent_indices  choice_indices\n",
       "0           0      C61Q1             10              24\n",
       "1           1      C61Q1             14               0\n",
       "2           2      C61Q1             12               0\n",
       "3           3      C61Q1             10              21\n",
       "4           4      C61Q1              8              10\n",
       "..        ...        ...            ...             ...\n",
       "995       995      C61Q1              1              23\n",
       "996       996      C61Q1             10               4\n",
       "997       997      C61Q1             18               0\n",
       "998       998      C61Q1              4               0\n",
       "999       999      C61Q1             13               2\n",
       "\n",
       "[1000 rows x 4 columns]"
      ]
     },
     "execution_count": 26,
     "metadata": {},
     "output_type": "execute_result"
    }
   ],
   "source": [
    "micro_data = pd.DataFrame(pyblp.data_to_dict(micro_data))\n",
    "micro_data"
   ]
  },
  {
   "cell_type": "markdown",
   "metadata": {},
   "source": [
    "The simulated micro data contain four columns:\n",
    "\n",
    "- `micro_ids`: This is simply an index from $0$ to $999$, indexing each micro observation.\n",
    "- `market_ids`: This is the market of each observation. We configured our [`MicroDataset`](https://pyblp.readthedocs.io/en/stable/_api/pyblp.MicroDataset.html#pyblp.MicroDataset)to only sample from one market.\n",
    "- `agent_indices`: This is the within-market index (from $0$ to $I_t - 1$ in market $t$) of the agent data row that was sampled with probability $w_{it}$, configured by the `weights` column in agent data.\n",
    "- `choice_indices`: This is the within-market index (from $0$ to $J_t - 1$ in market $t$) of the produt data row that was sampled with probability $s_{ijt}$ evaluated at the consistent estimate of $\\theta$.\n",
    "\n",
    "The simulated data contain a bit more information than we would usually have in actual micro data. The `agent_indices` contain information not only about observed demographics of the micro observation, but also about unobserved preferences. We will merge in only observed demographics for each agent index to get a more realistic simulated micro dataset."
   ]
  },
  {
   "cell_type": "code",
   "execution_count": 27,
   "metadata": {},
   "outputs": [
    {
     "data": {
      "text/html": [
       "<div>\n",
       "<style scoped>\n",
       "    .dataframe tbody tr th:only-of-type {\n",
       "        vertical-align: middle;\n",
       "    }\n",
       "\n",
       "    .dataframe tbody tr th {\n",
       "        vertical-align: top;\n",
       "    }\n",
       "\n",
       "    .dataframe thead th {\n",
       "        text-align: right;\n",
       "    }\n",
       "</style>\n",
       "<table border=\"1\" class=\"dataframe\">\n",
       "  <thead>\n",
       "    <tr style=\"text-align: right;\">\n",
       "      <th></th>\n",
       "      <th>micro_ids</th>\n",
       "      <th>market_ids</th>\n",
       "      <th>choice_indices</th>\n",
       "      <th>income</th>\n",
       "      <th>income_squared</th>\n",
       "      <th>age</th>\n",
       "      <th>child</th>\n",
       "    </tr>\n",
       "  </thead>\n",
       "  <tbody>\n",
       "    <tr>\n",
       "      <th>0</th>\n",
       "      <td>0</td>\n",
       "      <td>C61Q1</td>\n",
       "      <td>24</td>\n",
       "      <td>1.212283</td>\n",
       "      <td>22.546328</td>\n",
       "      <td>0.624306</td>\n",
       "      <td>-0.230851</td>\n",
       "    </tr>\n",
       "    <tr>\n",
       "      <th>1</th>\n",
       "      <td>1</td>\n",
       "      <td>C61Q1</td>\n",
       "      <td>0</td>\n",
       "      <td>0.020036</td>\n",
       "      <td>-0.519111</td>\n",
       "      <td>-0.335470</td>\n",
       "      <td>-0.230851</td>\n",
       "    </tr>\n",
       "    <tr>\n",
       "      <th>2</th>\n",
       "      <td>2</td>\n",
       "      <td>C61Q1</td>\n",
       "      <td>0</td>\n",
       "      <td>-1.106004</td>\n",
       "      <td>-19.693212</td>\n",
       "      <td>-1.839547</td>\n",
       "      <td>0.769149</td>\n",
       "    </tr>\n",
       "    <tr>\n",
       "      <th>3</th>\n",
       "      <td>3</td>\n",
       "      <td>C61Q1</td>\n",
       "      <td>21</td>\n",
       "      <td>1.212283</td>\n",
       "      <td>22.546328</td>\n",
       "      <td>0.624306</td>\n",
       "      <td>-0.230851</td>\n",
       "    </tr>\n",
       "    <tr>\n",
       "      <th>4</th>\n",
       "      <td>4</td>\n",
       "      <td>C61Q1</td>\n",
       "      <td>10</td>\n",
       "      <td>0.563580</td>\n",
       "      <td>9.643785</td>\n",
       "      <td>0.357678</td>\n",
       "      <td>-0.230851</td>\n",
       "    </tr>\n",
       "    <tr>\n",
       "      <th>...</th>\n",
       "      <td>...</td>\n",
       "      <td>...</td>\n",
       "      <td>...</td>\n",
       "      <td>...</td>\n",
       "      <td>...</td>\n",
       "      <td>...</td>\n",
       "      <td>...</td>\n",
       "    </tr>\n",
       "    <tr>\n",
       "      <th>995</th>\n",
       "      <td>995</td>\n",
       "      <td>C61Q1</td>\n",
       "      <td>23</td>\n",
       "      <td>-0.417249</td>\n",
       "      <td>-8.266351</td>\n",
       "      <td>1.273968</td>\n",
       "      <td>-0.230851</td>\n",
       "    </tr>\n",
       "    <tr>\n",
       "      <th>996</th>\n",
       "      <td>996</td>\n",
       "      <td>C61Q1</td>\n",
       "      <td>4</td>\n",
       "      <td>1.212283</td>\n",
       "      <td>22.546328</td>\n",
       "      <td>0.624306</td>\n",
       "      <td>-0.230851</td>\n",
       "    </tr>\n",
       "    <tr>\n",
       "      <th>997</th>\n",
       "      <td>997</td>\n",
       "      <td>C61Q1</td>\n",
       "      <td>0</td>\n",
       "      <td>-1.106004</td>\n",
       "      <td>-19.693212</td>\n",
       "      <td>-0.006965</td>\n",
       "      <td>-0.230851</td>\n",
       "    </tr>\n",
       "    <tr>\n",
       "      <th>998</th>\n",
       "      <td>998</td>\n",
       "      <td>C61Q1</td>\n",
       "      <td>0</td>\n",
       "      <td>-1.185986</td>\n",
       "      <td>-20.958686</td>\n",
       "      <td>0.851696</td>\n",
       "      <td>-0.230851</td>\n",
       "    </tr>\n",
       "    <tr>\n",
       "      <th>999</th>\n",
       "      <td>999</td>\n",
       "      <td>C61Q1</td>\n",
       "      <td>2</td>\n",
       "      <td>-0.239006</td>\n",
       "      <td>-5.154642</td>\n",
       "      <td>-1.616403</td>\n",
       "      <td>0.769149</td>\n",
       "    </tr>\n",
       "  </tbody>\n",
       "</table>\n",
       "<p>1000 rows × 7 columns</p>\n",
       "</div>"
      ],
      "text/plain": [
       "    micro_ids market_ids  choice_indices    income  income_squared       age  \\\n",
       "0           0      C61Q1              24  1.212283       22.546328  0.624306   \n",
       "1           1      C61Q1               0  0.020036       -0.519111 -0.335470   \n",
       "2           2      C61Q1               0 -1.106004      -19.693212 -1.839547   \n",
       "3           3      C61Q1              21  1.212283       22.546328  0.624306   \n",
       "4           4      C61Q1              10  0.563580        9.643785  0.357678   \n",
       "..        ...        ...             ...       ...             ...       ...   \n",
       "995       995      C61Q1              23 -0.417249       -8.266351  1.273968   \n",
       "996       996      C61Q1               4  1.212283       22.546328  0.624306   \n",
       "997       997      C61Q1               0 -1.106004      -19.693212 -0.006965   \n",
       "998       998      C61Q1               0 -1.185986      -20.958686  0.851696   \n",
       "999       999      C61Q1               2 -0.239006       -5.154642 -1.616403   \n",
       "\n",
       "        child  \n",
       "0   -0.230851  \n",
       "1   -0.230851  \n",
       "2    0.769149  \n",
       "3   -0.230851  \n",
       "4   -0.230851  \n",
       "..        ...  \n",
       "995 -0.230851  \n",
       "996 -0.230851  \n",
       "997 -0.230851  \n",
       "998 -0.230851  \n",
       "999  0.769149  \n",
       "\n",
       "[1000 rows x 7 columns]"
      ]
     },
     "execution_count": 27,
     "metadata": {},
     "output_type": "execute_result"
    }
   ],
   "source": [
    "agent_data['agent_indices'] = agent_data.groupby('market_ids').cumcount()\n",
    "micro_data = micro_data.merge(\n",
    "    agent_data[['market_ids', 'agent_indices', 'income', 'income_squared', 'age', 'child']],\n",
    "    on=['market_ids', 'agent_indices']\n",
    ")\n",
    "del micro_data['agent_indices']\n",
    "micro_data"
   ]
  },
  {
   "cell_type": "markdown",
   "metadata": {},
   "source": [
    "This is more like real micro data that we would actually load from a file. For each observation, we know the market, choice, and demographics of the consumer.\n",
    "\n",
    "To compute optimal micro moments at our consistent estimate of $\\theta$, we need to compute two types of scores:\n",
    "\n",
    "1. The score for each observation in our micro data via [`ProblemResults.compute_micro_scores`](https://pyblp.readthedocs.io/en/stable/_api/pyblp.ProblemResults.compute_micro_scores.html#pyblp.ProblemResults.compute_micro_scores).\n",
    "2. The score for each possible agent-choice in the model via [`ProblemResults.compute_agent_scores`](https://pyblp.readthedocs.io/en/stable/_api/pyblp.ProblemResults.compute_agent_scores.html#pyblp.ProblemResults.compute_agent_scores).\n",
    "\n",
    "For each, we will integrate over unobserved heterogeneity with quadrature, but one could use Monte Carlo methods too. We will do so by just passing an [`Integration`](https://pyblp.readthedocs.io/en/stable/_api/pyblp.Integration.html#pyblp.Integration) configuration to these two methods, but we could also do so by duplicating each row of micro data by as many integration nodes/weights we wanted for each, adding `weights` and `nodes` columns as with agent data."
   ]
  },
  {
   "cell_type": "code",
   "execution_count": 28,
   "metadata": {},
   "outputs": [],
   "source": [
    "score_integration = pyblp.Integration('product', 5)\n",
    "micro_scores = results.compute_micro_scores(micro_dataset, micro_data, integration=score_integration)\n",
    "agent_scores = results.compute_agent_scores(micro_dataset, integration=score_integration)"
   ]
  },
  {
   "cell_type": "markdown",
   "metadata": {},
   "source": [
    "Both `micro_scores` and `agent_scores` are lists, with one element for each nonlinear parameter in $\\theta$. The ordering is"
   ]
  },
  {
   "cell_type": "code",
   "execution_count": 29,
   "metadata": {},
   "outputs": [
    {
     "data": {
      "text/plain": [
       "['1 x 1',\n",
       " 'prices x prices',\n",
       " 'sugar x sugar',\n",
       " 'mushy x mushy',\n",
       " '1 x income',\n",
       " '1 x age',\n",
       " 'prices x income',\n",
       " 'prices x income_squared',\n",
       " 'prices x child',\n",
       " 'sugar x income',\n",
       " 'sugar x age',\n",
       " 'mushy x income',\n",
       " 'mushy x age']"
      ]
     },
     "execution_count": 29,
     "metadata": {},
     "output_type": "execute_result"
    }
   ],
   "source": [
    "results.theta_labels"
   ]
  },
  {
   "cell_type": "markdown",
   "metadata": {},
   "source": [
    "The first element of `micro_scores` corresponds to the $\\sigma$ on the constant term (i.e., the `'1 x 1'` above). It has the estimated score for each observation in `micro_data`:"
   ]
  },
  {
   "cell_type": "code",
   "execution_count": 30,
   "metadata": {},
   "outputs": [
    {
     "data": {
      "text/plain": [
       "(1000,)"
      ]
     },
     "execution_count": 30,
     "metadata": {},
     "output_type": "execute_result"
    }
   ],
   "source": [
    "micro_scores[0].shape"
   ]
  },
  {
   "cell_type": "markdown",
   "metadata": {},
   "source": [
    "The first element of `agent_scores` also correspondds to the $\\sigma$ on the constant term. It is a mapping from market IDs to arrays of scores for each of the $I_t \\times J_t$ possible agent-choices in that market."
   ]
  },
  {
   "cell_type": "code",
   "execution_count": 31,
   "metadata": {},
   "outputs": [
    {
     "data": {
      "text/plain": [
       "(20, 25)"
      ]
     },
     "execution_count": 31,
     "metadata": {},
     "output_type": "execute_result"
    }
   ],
   "source": [
    "agent_scores[0]['C61Q1'].shape"
   ]
  },
  {
   "cell_type": "markdown",
   "metadata": {},
   "source": [
    "We will construct one optimal [`MicroMoment`](https://pyblp.readthedocs.io/en/stable/_api/pyblp.MicroMoment.html#pyblp.MicroMoment) for each parameter, matching the average score (via a [`MicroPart`](https://pyblp.readthedocs.io/en/stable/_api/pyblp.MicroPart.html#pyblp.MicroPart)) for that parameter from the micro data with its model counterpart."
   ]
  },
  {
   "cell_type": "code",
   "execution_count": 32,
   "metadata": {},
   "outputs": [],
   "source": [
    "optimal_micro_moments = []\n",
    "for m, (micro_scores_m, agent_scores_m) in enumerate(zip(micro_scores, agent_scores)):\n",
    "    optimal_micro_moments.append(pyblp.MicroMoment(\n",
    "        name=f\"Score for parameter #{m}\",\n",
    "        value=micro_scores_m.mean(),\n",
    "        parts=pyblp.MicroPart(\n",
    "            name=f\"Score for parameter #{m}\",\n",
    "            dataset=micro_dataset,\n",
    "            compute_values=lambda t, p, a, v=agent_scores_m: v[t],\n",
    "        ),\n",
    "    ))\n"
   ]
  },
  {
   "cell_type": "markdown",
   "metadata": {},
   "source": [
    "For example, some information about the optimal micro moment for the first parameter is as follows."
   ]
  },
  {
   "cell_type": "code",
   "execution_count": 33,
   "metadata": {},
   "outputs": [
    {
     "data": {
      "text/plain": [
       "Score for parameter #0: -2.8E-02 (Score for parameter #0 on Simulated micro data: 1000 Observations in Market 'C61Q1')"
      ]
     },
     "execution_count": 33,
     "metadata": {},
     "output_type": "execute_result"
    }
   ],
   "source": [
    "optimal_micro_moments[0]"
   ]
  },
  {
   "cell_type": "markdown",
   "metadata": {},
   "source": [
    "Now, we can use our problem with updated optimal IVs, including our optimal micro moments, to obtain an efficient estimator."
   ]
  },
  {
   "cell_type": "code",
   "execution_count": 34,
   "metadata": {},
   "outputs": [
    {
     "data": {
      "text/plain": [
       "Problem Results Summary:\n",
       "=======================================================================================================\n",
       "GMM   Objective  Gradient      Hessian         Hessian     Clipped  Weighting Matrix  Covariance Matrix\n",
       "Step    Value      Norm    Min Eigenvalue  Max Eigenvalue  Shares   Condition Number  Condition Number \n",
       "----  ---------  --------  --------------  --------------  -------  ----------------  -----------------\n",
       " 1    +1.1E+02   +3.8E-06     +2.2E-03        +8.3E+04        0         +2.2E+08          +4.1E+07     \n",
       "=======================================================================================================\n",
       "\n",
       "Cumulative Statistics:\n",
       "===========================================================================\n",
       "Computation  Optimizer  Optimization   Objective   Fixed Point  Contraction\n",
       "   Time      Converged   Iterations   Evaluations  Iterations   Evaluations\n",
       "-----------  ---------  ------------  -----------  -----------  -----------\n",
       " 00:00:16       Yes          34           42          33328       103772   \n",
       "===========================================================================\n",
       "\n",
       "Nonlinear Coefficient Estimates (Robust SEs in Parentheses):\n",
       "=====================================================================================================================\n",
       "Sigma:      1         prices      sugar       mushy     |   Pi:      income    income_squared     age        child   \n",
       "------  ----------  ----------  ----------  ----------  |  ------  ----------  --------------  ----------  ----------\n",
       "  1      +4.6E-01                                       |    1      +4.8E+00      +0.0E+00      +6.5E-01    +0.0E+00 \n",
       "        (+6.7E-02)                                      |          (+3.5E-01)                  (+1.5E-01)            \n",
       "                                                        |                                                            \n",
       "prices   +0.0E+00    +3.1E+00                           |  prices   +4.7E+02      -2.5E+01      +0.0E+00    +3.2E+00 \n",
       "                    (+5.3E-01)                          |          (+3.1E+01)    (+1.6E+00)                (+1.7E+00)\n",
       "                                                        |                                                            \n",
       "sugar    +0.0E+00    +0.0E+00    +2.0E-02               |  sugar    -4.0E-01      +0.0E+00      +4.6E-02    +0.0E+00 \n",
       "                                (+6.1E-03)              |          (+2.4E-02)                  (+9.2E-03)            \n",
       "                                                        |                                                            \n",
       "mushy    +0.0E+00    +0.0E+00    +0.0E+00    -6.6E-02   |  mushy    +1.1E+00      +0.0E+00      -1.1E+00    +0.0E+00 \n",
       "                                            (+8.3E-02)  |          (+1.9E-01)                  (+1.1E-01)            \n",
       "=====================================================================================================================\n",
       "\n",
       "Beta Estimates (Robust SEs in Parentheses):\n",
       "==========\n",
       "  prices  \n",
       "----------\n",
       " -5.2E+01 \n",
       "(+2.2E+00)\n",
       "==========\n",
       "\n",
       "Estimated Micro Moments:\n",
       "==============================================================================================================================\n",
       "Observed  Estimated  Difference          Moment                    Part                  Dataset         Observations  Markets\n",
       "--------  ---------  ----------  -----------------------  -----------------------  --------------------  ------------  -------\n",
       "-2.8E-02  -2.3E-02    -5.5E-03   Score for parameter #0   Score for parameter #0   Simulated micro data      1000         1   \n",
       "+6.4E-04  +9.8E-04    -3.4E-04   Score for parameter #1   Score for parameter #1   Simulated micro data      1000         1   \n",
       "+1.1E-01  +1.5E-01    -3.4E-02   Score for parameter #2   Score for parameter #2   Simulated micro data      1000         1   \n",
       "-2.9E-04  -3.6E-04    +7.0E-05   Score for parameter #3   Score for parameter #3   Simulated micro data      1000         1   \n",
       "-2.0E-03  +2.1E-02    -2.3E-02   Score for parameter #4   Score for parameter #4   Simulated micro data      1000         1   \n",
       "-3.6E-02  -3.0E-02    -6.3E-03   Score for parameter #5   Score for parameter #5   Simulated micro data      1000         1   \n",
       "-2.5E-04  +2.1E-03    -2.4E-03   Score for parameter #6   Score for parameter #6   Simulated micro data      1000         1   \n",
       "-6.8E-03  +4.0E-02    -4.7E-02   Score for parameter #7   Score for parameter #7   Simulated micro data      1000         1   \n",
       "+1.7E-03  +1.0E-03    +6.8E-04   Score for parameter #8   Score for parameter #8   Simulated micro data      1000         1   \n",
       "+5.5E-02  +1.8E-01    -1.3E-01   Score for parameter #9   Score for parameter #9   Simulated micro data      1000         1   \n",
       "-4.8E-01  -4.7E-01    -1.0E-02   Score for parameter #10  Score for parameter #10  Simulated micro data      1000         1   \n",
       "-2.9E-03  +8.1E-03    -1.1E-02   Score for parameter #11  Score for parameter #11  Simulated micro data      1000         1   \n",
       "-2.6E-02  -5.5E-03    -2.0E-02   Score for parameter #12  Score for parameter #12  Simulated micro data      1000         1   \n",
       "=============================================================================================================================="
      ]
     },
     "execution_count": 34,
     "metadata": {},
     "output_type": "execute_result"
    }
   ],
   "source": [
    "updated_results = updated_problem.solve(\n",
    "    results.sigma,\n",
    "    results.pi, \n",
    "    optimization=pyblp.Optimization('bfgs', {'gtol': 1e-5}),\n",
    "    method='1s',\n",
    "    micro_moments=optimal_micro_moments,\n",
    ")\n",
    "updated_results"
   ]
  },
  {
   "cell_type": "markdown",
   "metadata": {},
   "source": [
    "Results are fairly similar to before because we simulated the micro data from our first-stage estimate of $\\theta$, which was somewhat close to our second-stage estimate. Scores are not matched perfectly because the model is now over-identified, with two times as many moments as there are parameters (one optimal IV and one optimal micro moment for each nonlinear parameter)."
   ]
  }
 ],
 "metadata": {
  "kernelspec": {
   "display_name": "Python 3 (ipykernel)",
   "language": "python",
   "name": "python3"
  },
  "language_info": {
   "codemirror_mode": {
    "name": "ipython",
    "version": 3
   },
   "file_extension": ".py",
   "mimetype": "text/x-python",
   "name": "python",
   "nbconvert_exporter": "python",
   "pygments_lexer": "ipython3",
   "version": "3.12.4"
  }
 },
 "nbformat": 4,
 "nbformat_minor": 4
}
